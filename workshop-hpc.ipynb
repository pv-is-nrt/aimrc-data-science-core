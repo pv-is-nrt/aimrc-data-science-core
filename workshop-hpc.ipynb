{
 "cells": [
  {
   "cell_type": "markdown",
   "metadata": {},
   "source": [
    "# AIMRC Data Science Core Workshop on Using AHPCC\n",
    "\n",
    "Before running this notebook, make sure you have the right packages installed in the environment you are using."
   ]
  },
  {
   "cell_type": "markdown",
   "metadata": {},
   "source": [
    "## Exercise 1: Running a simple Python script in Jupyter Notebook\n",
    "\n",
    "In this exercise, we will run a simple Python script in Jupyter Notebook. The script will print \"Hello, World!\" to the console."
   ]
  },
  {
   "cell_type": "code",
   "execution_count": 6,
   "metadata": {},
   "outputs": [
    {
     "data": {
      "text/plain": [
       "environ{'ALLUSERSPROFILE': 'C:\\\\ProgramData',\n",
       "        'APPDATA': 'C:\\\\Users\\\\prateek\\\\AppData\\\\Roaming',\n",
       "        'CHROME_CRASHPAD_PIPE_NAME': '\\\\\\\\.\\\\pipe\\\\crashpad_25292_NMBKSCQBWDYUKKZE',\n",
       "        'COMMONPROGRAMFILES': 'C:\\\\Program Files\\\\Common Files',\n",
       "        'COMMONPROGRAMFILES(X86)': 'C:\\\\Program Files (x86)\\\\Common Files',\n",
       "        'COMMONPROGRAMW6432': 'C:\\\\Program Files\\\\Common Files',\n",
       "        'COMPUTERNAME': 'JBHT-351',\n",
       "        'COMSPEC': 'C:\\\\WINDOWS\\\\system32\\\\cmd.exe',\n",
       "        'CONDA_DEFAULT_ENV': 'torchenv',\n",
       "        'CONDA_EXE': 'C:\\\\Users\\\\prateek\\\\miniconda3\\\\Scripts\\\\conda.exe',\n",
       "        'CONDA_PREFIX': 'C:\\\\Users\\\\prateek\\\\miniconda3\\\\envs\\\\torchenv',\n",
       "        'CONDA_PROMPT_MODIFIER': '(torchenv) ',\n",
       "        'CONDA_PYTHON_EXE': 'C:\\\\Users\\\\prateek\\\\miniconda3\\\\python.exe',\n",
       "        'CONDA_ROOT': 'C:\\\\Users\\\\prateek\\\\miniconda3',\n",
       "        'CONDA_SHLVL': '1',\n",
       "        'DRIVERDATA': 'C:\\\\Windows\\\\System32\\\\Drivers\\\\DriverData',\n",
       "        'EFC_3020': '1',\n",
       "        'ELECTRON_RUN_AS_NODE': '1',\n",
       "        'HOMEDRIVE': 'C:',\n",
       "        'HOMEPATH': '\\\\Users\\\\prateek',\n",
       "        'JPY_INTERRUPT_EVENT': '1568',\n",
       "        'LOCALAPPDATA': 'C:\\\\Users\\\\prateek\\\\AppData\\\\Local',\n",
       "        'LOGONSERVER': '\\\\\\\\JBHT-351',\n",
       "        'NUMBER_OF_PROCESSORS': '20',\n",
       "        'ONEDRIVE': 'D:\\\\OneDrive',\n",
       "        'ONEDRIVECONSUMER': 'D:\\\\OneDrive',\n",
       "        'ORIGINAL_XDG_CURRENT_DESKTOP': 'undefined',\n",
       "        'OS': 'Windows_NT',\n",
       "        'PATH': 'c:\\\\Users\\\\prateek\\\\miniconda3\\\\envs\\\\torchenv;C:\\\\Users\\\\prateek\\\\miniconda3\\\\envs\\\\torchenv;C:\\\\Users\\\\prateek\\\\miniconda3\\\\envs\\\\torchenv\\\\Library\\\\mingw-w64\\\\bin;C:\\\\Users\\\\prateek\\\\miniconda3\\\\envs\\\\torchenv\\\\Library\\\\usr\\\\bin;C:\\\\Users\\\\prateek\\\\miniconda3\\\\envs\\\\torchenv\\\\Library\\\\bin;C:\\\\Users\\\\prateek\\\\miniconda3\\\\envs\\\\torchenv\\\\Scripts;C:\\\\Users\\\\prateek\\\\miniconda3\\\\envs\\\\torchenv\\\\bin;C:\\\\Users\\\\prateek\\\\miniconda3\\\\condabin;C:\\\\WINDOWS\\\\system32;C:\\\\WINDOWS;C:\\\\WINDOWS\\\\System32\\\\Wbem;C:\\\\WINDOWS\\\\System32\\\\WindowsPowerShell\\\\v1.0;C:\\\\WINDOWS\\\\System32\\\\OpenSSH;C:\\\\Program Files\\\\Microsoft VS Code Insiders\\\\bin;C:\\\\Program Files\\\\Git\\\\cmd;C:\\\\Users\\\\prateek\\\\AppData\\\\Local\\\\Microsoft\\\\WindowsApps;C:\\\\Users\\\\prateek\\\\AppData\\\\Local\\\\Programs\\\\Microsoft VS Code Insiders\\\\bin;C:\\\\Users\\\\prateek\\\\AppData\\\\Local\\\\GitHubDesktop\\\\bin',\n",
       "        'PATHEXT': '.COM;.EXE;.BAT;.CMD;.VBS;.VBE;.JS;.JSE;.WSF;.WSH;.MSC',\n",
       "        'PROCESSOR_ARCHITECTURE': 'AMD64',\n",
       "        'PROCESSOR_IDENTIFIER': 'Intel64 Family 6 Model 85 Stepping 7, GenuineIntel',\n",
       "        'PROCESSOR_LEVEL': '6',\n",
       "        'PROCESSOR_REVISION': '5507',\n",
       "        'PROGRAMDATA': 'C:\\\\ProgramData',\n",
       "        'PROGRAMFILES': 'C:\\\\Program Files',\n",
       "        'PROGRAMFILES(X86)': 'C:\\\\Program Files (x86)',\n",
       "        'PROGRAMW6432': 'C:\\\\Program Files',\n",
       "        'PROMPT': '(torchenv) $P$G',\n",
       "        'PSMODULEPATH': 'C:\\\\Program Files\\\\WindowsPowerShell\\\\Modules;C:\\\\WINDOWS\\\\system32\\\\WindowsPowerShell\\\\v1.0\\\\Modules',\n",
       "        'PUBLIC': 'C:\\\\Users\\\\Public',\n",
       "        'PYDEVD_IPYTHON_COMPATIBLE_DEBUGGING': '1',\n",
       "        'PYTHONIOENCODING': 'utf-8',\n",
       "        'PYTHONUNBUFFERED': '1',\n",
       "        'PYTHONUTF8': '1',\n",
       "        'PYTHON_FROZEN_MODULES': 'on',\n",
       "        'SESSIONNAME': 'Console',\n",
       "        'SSL_CERT_FILE': 'C:\\\\Users\\\\prateek\\\\miniconda3\\\\envs\\\\torchenv\\\\Library\\\\ssl\\\\cacert.pem',\n",
       "        'SYSTEMDRIVE': 'C:',\n",
       "        'SYSTEMROOT': 'C:\\\\WINDOWS',\n",
       "        'TEMP': 'C:\\\\Users\\\\prateek\\\\AppData\\\\Local\\\\Temp',\n",
       "        'TMP': 'C:\\\\Users\\\\prateek\\\\AppData\\\\Local\\\\Temp',\n",
       "        'USERDOMAIN': 'JBHT-351',\n",
       "        'USERDOMAIN_ROAMINGPROFILE': 'JBHT-351',\n",
       "        'USERNAME': 'prateek',\n",
       "        'USERPROFILE': 'C:\\\\Users\\\\prateek',\n",
       "        'VSCODE_AMD_ENTRYPOINT': 'vs/workbench/api/node/extensionHostProcess',\n",
       "        'VSCODE_CODE_CACHE_PATH': 'C:\\\\Users\\\\prateek\\\\AppData\\\\Roaming\\\\Code - Insiders\\\\CachedData\\\\82104a3a6cf8713b81e5bbd97960dbf5c82a816a',\n",
       "        'VSCODE_CRASH_REPORTER_PROCESS_TYPE': 'extensionHost',\n",
       "        'VSCODE_CWD': 'C:\\\\Users\\\\prateek\\\\AppData\\\\Local\\\\Programs\\\\Microsoft VS Code Insiders',\n",
       "        'VSCODE_HANDLES_UNCAUGHT_ERRORS': 'true',\n",
       "        'VSCODE_IPC_HOOK': '\\\\\\\\.\\\\pipe\\\\9a6cf4da-1.92.0-insider-main-sock',\n",
       "        'VSCODE_L10N_BUNDLE_LOCATION': '',\n",
       "        'VSCODE_NLS_CONFIG': '{\"userLocale\":\"en-us\",\"osLocale\":\"en-us\",\"resolvedLanguage\":\"en\",\"defaultMessagesFile\":\"C:\\\\\\\\Users\\\\\\\\prateek\\\\\\\\AppData\\\\\\\\Local\\\\\\\\Programs\\\\\\\\Microsoft VS Code Insiders\\\\\\\\resources\\\\\\\\app\\\\\\\\out\\\\\\\\nls.messages.json\",\"locale\":\"en\",\"availableLanguages\":{}}',\n",
       "        'VSCODE_PID': '25292',\n",
       "        'WINDIR': 'C:\\\\WINDOWS',\n",
       "        '_CONDA_OLD_CHCP': '437',\n",
       "        '__CONDA_OPENSLL_CERT_FILE_SET': '\"1\"',\n",
       "        'PYDEVD_USE_FRAME_EVAL': 'NO',\n",
       "        'TERM': 'xterm-color',\n",
       "        'CLICOLOR': '1',\n",
       "        'FORCE_COLOR': '1',\n",
       "        'CLICOLOR_FORCE': '1',\n",
       "        'PAGER': 'cat',\n",
       "        'GIT_PAGER': 'cat',\n",
       "        'MPLBACKEND': 'module://matplotlib_inline.backend_inline'}"
      ]
     },
     "execution_count": 6,
     "metadata": {},
     "output_type": "execute_result"
    }
   ],
   "source": [
    "# create a simple python script that prints information about the shell environment\n",
    "\n",
    "import os\n",
    "\n",
    "os.environ"
   ]
  },
  {
   "cell_type": "code",
   "execution_count": 2,
   "metadata": {},
   "outputs": [
    {
     "name": "stdout",
     "output_type": "stream",
     "text": [
      "Host Name: JBHT-351\n",
      "IP Address: 10.5.54.1\n"
     ]
    }
   ],
   "source": [
    "get_server_info()"
   ]
  },
  {
   "cell_type": "code",
   "execution_count": null,
   "metadata": {},
   "outputs": [],
   "source": []
  }
 ],
 "metadata": {
  "kernelspec": {
   "display_name": "torchenv",
   "language": "python",
   "name": "python3"
  },
  "language_info": {
   "codemirror_mode": {
    "name": "ipython",
    "version": 3
   },
   "file_extension": ".py",
   "mimetype": "text/x-python",
   "name": "python",
   "nbconvert_exporter": "python",
   "pygments_lexer": "ipython3",
   "version": "3.10.14"
  }
 },
 "nbformat": 4,
 "nbformat_minor": 2
}
