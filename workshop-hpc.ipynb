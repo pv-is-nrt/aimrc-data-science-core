{
 "cells": [
  {
   "cell_type": "markdown",
   "metadata": {},
   "source": [
    "# AIMRC Data Science Core Workshop on Using AHPCC\n",
    "\n",
    "Before running this notebook, make sure you have the right python packages/modules installed in the environment you are using.\n",
    "\n",
    "Link to Google Drive Data folder. Please download the data and save it somewhere on your AHPCC drive or on your local computer (if you don't have access to AHPCC).  \n",
    "> https://drive.google.com/drive/folders/1_IlfCe9hak_ggr7v2aydl-Zg21vIep3K?usp=sharing"
   ]
  },
  {
   "cell_type": "markdown",
   "metadata": {},
   "source": [
    "## Exercise 1: Here we go!\n",
    "\n",
    "In this exercise, you learned how to log into the Pinnacle Desktop and how to navigate the system. This exercise was done outside of the Jupyter notebook environment, of course."
   ]
  },
  {
   "cell_type": "markdown",
   "metadata": {},
   "source": [
    "## Exercise 2: Basic Shell Commands\n",
    "\n",
    "In this exercise, you learned about logging into the Pinnacle server using SSH and running basic shell commands. This exercise was done outside of the Jupyter notebook environment."
   ]
  },
  {
   "cell_type": "markdown",
   "metadata": {},
   "source": [
    "## Exercise 3: What have I gotten myself into?"
   ]
  },
  {
   "cell_type": "markdown",
   "metadata": {},
   "source": [
    "### Get basic information about the hardware"
   ]
  },
  {
   "cell_type": "code",
   "execution_count": null,
   "metadata": {},
   "outputs": [],
   "source": [
    "# we import psutil that allows us to interact with the system processes\n",
    "import psutil\n",
    "\n",
    "# print the number of CPU cores available and the percent usage\n",
    "print(\"Number of CPU cores:\", psutil.cpu_count())\n",
    "print(\"CPU usage:\", psutil.cpu_percent(interval=1), \"%\")\n",
    "\n",
    "# print the total and used memory on the system\n",
    "memory = psutil.virtual_memory()\n",
    "print(\"Total memory:\", memory.total / (1024 * 1024 * 1024), \"GB\")\n",
    "print(\"Used memory:\", memory.used / (1024 * 1024 * 1024), \"GB\")\n",
    "\n",
    "# print the amount of GPU memory on the system\n",
    "gpu_memory = psutil.virtual_memory()\n",
    "print(\"Total GPU memory:\", gpu_memory.total / (1024 * 1024 * 1024), \"GB\")\n",
    "print(\"Used GPU memory:\", gpu_memory.used / (1024 * 1024 * 1024), \"GB\")\n",
    "\n",
    "# print the storage information on the system\n",
    "disk_partitions = psutil.disk_partitions()\n",
    "for d_p in disk_partitions:\n",
    "    print(\"Device: \" + d_p.device + \"; \"\n",
    "          \"Mountpoint: \" + d_p.mountpoint + \"; \"\n",
    "          \"File system type: \" + d_p.fstype)\n",
    "disk_usage = psutil.disk_usage('/')\n",
    "print(\"Total disk space:\", disk_usage.total / (1024 * 1024 * 1024), \"GB\")\n",
    "print(\"Used disk space:\", disk_usage.used / (1024 * 1024 * 1024), \"GB\")"
   ]
  },
  {
   "cell_type": "markdown",
   "metadata": {},
   "source": [
    "We can get detailed information about the Nvidia GPU by using the nvidia-smi utility.  \n",
    "Note that you can use shell commands in Jupyter Notebooks by prefixing the command with an exclamation mark (!)."
   ]
  },
  {
   "cell_type": "code",
   "execution_count": null,
   "metadata": {},
   "outputs": [],
   "source": [
    "!nvidia-smi"
   ]
  },
  {
   "cell_type": "markdown",
   "metadata": {},
   "source": [
    "### Get information about the packages installed"
   ]
  },
  {
   "cell_type": "code",
   "execution_count": null,
   "metadata": {},
   "outputs": [],
   "source": [
    "# print the list of packages installed in the current environment\n",
    "!conda list"
   ]
  },
  {
   "cell_type": "markdown",
   "metadata": {},
   "source": [
    "## Exercise 4: Running a simple Python script in Jupyter Notebook\n",
    "\n",
    "In this exercise, we will run a simple Python program in Jupyter Notebook. We write a program to crop images and save the cropped images in a new folder."
   ]
  },
  {
   "cell_type": "code",
   "execution_count": null,
   "metadata": {},
   "outputs": [],
   "source": [
    "from pathlib import Path\n",
    "import PIL.Image as Image\n",
    "\n",
    "DATA_FOLDER = 'PATH/TO/DATA'\n",
    "TARGET_FOLDER = 'PATH/TO/TARGET'\n",
    "\n",
    "# Create target folder if it does not exist\n",
    "Path(TARGET_FOLDER).mkdir(parents=True, exist_ok=True)"
   ]
  },
  {
   "cell_type": "code",
   "execution_count": null,
   "metadata": {},
   "outputs": [],
   "source": [
    "# get the list of all files in the source folder\n",
    "files = list(Path(DATA_FOLDER).rglob('*.jpg'))\n",
    "print(len(files))\n",
    "\n",
    "# get the dimension of the first image\n",
    "img = Image.open(files[0])\n",
    "print(img.size)"
   ]
  },
  {
   "cell_type": "code",
   "execution_count": null,
   "metadata": {},
   "outputs": [],
   "source": [
    "# define the cropping function\n",
    "def crop_image(file, data_folder, target_folder):\n",
    "    img = Image.open(file)\n",
    "    img = img.crop((0, 0, 1024, 600))\n",
    "    # save the cropped image in the target folder matching the subfolder structure\n",
    "    save_to_path = str(file).replace(data_folder, target_folder)\n",
    "    # make sure the subfolder exists\n",
    "    Path(save_to_path).parent.mkdir(parents=True, exist_ok=True)\n",
    "    img.save(save_to_path)\n",
    "    print('saved ' + save_to_path)"
   ]
  },
  {
   "cell_type": "code",
   "execution_count": null,
   "metadata": {},
   "outputs": [],
   "source": [
    "# crop all images\n",
    "for file in files:\n",
    "    crop_image(file, DATA_FOLDER, TARGET_FOLDER)"
   ]
  },
  {
   "cell_type": "markdown",
   "metadata": {},
   "source": [
    "## Exercise 5: Running jobs on the Pinnacle cluster\n",
    "\n",
    "In this exercise, you learned about logging into the Pinnacle server using (1) the OOD and creating and running simple jobs, and (2) SSH and creating and running simple jobs. This exercise was done outside of the Jupyter notebook environment."
   ]
  },
  {
   "cell_type": "markdown",
   "metadata": {},
   "source": [
    "## Exercise 6: Fiji\n",
    "\n",
    "In this exercise, you learned about logging into the Pinnacle Desktop, browsing the internet, downloading and installing Fiji and using Fiji to open and process an image file."
   ]
  },
  {
   "cell_type": "markdown",
   "metadata": {},
   "source": [
    "## Exercise 7: A machine learning experiment\n",
    "\n",
    "In this exercise, we write a simple machine learning program to classify the images you downloaded from the Google Drive folder. We will train a simple CNN model to classify the images."
   ]
  }
 ],
 "metadata": {
  "kernelspec": {
   "display_name": "torchenv",
   "language": "python",
   "name": "python3"
  },
  "language_info": {
   "codemirror_mode": {
    "name": "ipython",
    "version": 3
   },
   "file_extension": ".py",
   "mimetype": "text/x-python",
   "name": "python",
   "nbconvert_exporter": "python",
   "pygments_lexer": "ipython3",
   "version": "3.10.14"
  }
 },
 "nbformat": 4,
 "nbformat_minor": 2
}
