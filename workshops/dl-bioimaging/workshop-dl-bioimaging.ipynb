{
 "cells": [
  {
   "cell_type": "markdown",
   "metadata": {},
   "source": [
    "# Deep Learning in Bioimaging Workshop\n",
    "\n",
    "Welcome to the Deep Learning in Bioimaging Workshop! In this workshop, we will explore various deep learning techniques and apply them to biomedical images using Fiji (ImageJ) and Google Colab. This workshop is designed for beginners, so don't worry if you are new to deep learning or bioimaging.\n",
    "\n",
    "We will cover the following exercises:\n",
    "1. Image Classification (Google Colab)\n",
    "2. Image Segmentation (Fiji)\n",
    "3. Cell Counting (Google Colab)\n",
    "4. Image Denoising (Fiji)\n",
    "\n",
    "Let's dive in and start with Exercise 1!"
   ]
  },
  {
   "cell_type": "markdown",
   "metadata": {},
   "source": [
    "## Exercise 1: Image Classification (Google Colab)\n",
    "\n",
    "In this exercise, we will build a simple image classification model using a neural network to classify biomedical images into different categories. We will use the MedMNIST dataset for this purpose.\n",
    "\n",
    "### Step 1: Importing Libraries\n",
    "\n",
    "First, let's import the necessary libraries."
   ]
  },
  {
   "cell_type": "code",
   "execution_count": null,
   "metadata": {},
   "outputs": [],
   "source": [
    "import numpy as np\n",
    "import pandas as pd\n",
    "import matplotlib.pyplot as plt\n",
    "import tensorflow as tf\n",
    "from tensorflow.keras.models import Sequential\n",
    "from tensorflow.keras.layers import Dense, Conv2D, MaxPooling2D, Flatten\n",
    "from tensorflow.keras.preprocessing.image import ImageDataGenerator\n",
    "from tensorflow.keras.optimizers import Adam\n",
    "from tensorflow.keras.utils import to_categorical\n",
    "from sklearn.model_selection import train_test_split\n",
    "import medmnist\n",
    "from medmnist import INFO, Evaluator"
   ]
  }
 ],
 "metadata": {
  "kernelspec": {
   "display_name": "venv",
   "language": "python",
   "name": "python3"
  },
  "language_info": {
   "name": "python",
   "version": "3.9.0"
  }
 },
 "nbformat": 4,
 "nbformat_minor": 2
}
